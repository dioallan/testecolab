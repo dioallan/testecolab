{
  "nbformat": 4,
  "nbformat_minor": 0,
  "metadata": {
    "colab": {
      "provenance": [],
      "authorship_tag": "ABX9TyNMccLF090pmTFV533BI1Dx",
      "include_colab_link": true
    },
    "kernelspec": {
      "name": "python3",
      "display_name": "Python 3"
    },
    "language_info": {
      "name": "python"
    }
  },
  "cells": [
    {
      "cell_type": "markdown",
      "metadata": {
        "id": "view-in-github",
        "colab_type": "text"
      },
      "source": [
        "<a href=\"https://colab.research.google.com/github/dioallan/testecolab/blob/main/T3_ScrapyCel.ipynb\" target=\"_parent\"><img src=\"https://colab.research.google.com/assets/colab-badge.svg\" alt=\"Open In Colab\"/></a>"
      ]
    },
    {
      "cell_type": "code",
      "execution_count": null,
      "metadata": {
        "id": "rrMP1h-sd2hf"
      },
      "outputs": [],
      "source": [
        "import scrapy\n",
        "\n",
        "class QuotSpider(scrapy.Spider):\n",
        "    name = 'Voo'\n",
        "    start_urls = ['https://www.amazon.com.br/s?k=smartphone']\n",
        "    def parse(self, response):\n",
        "        filtro = response.xpath(\"*//div[@class='a-section a-spacing-base']\")\n",
        "        for q in filtro:\n",
        "            yield {\n",
        "                    'produto':q.xpath('.//span[@class=\"a-size-base-plus a-color-base a-text-normal\"]/text()').getall(),\n",
        "                    'valor':q.xpath('.//span[@class=\"a-price-whole\"]/text()').getall(),\n",
        "                    'valor2':q.xpath('.//span[@class=\"a-price-fraction\"]/text()').getall(),\n",
        "                    'Frete':q.xpath('.//span[@aria-label=\"Frete GRÁTIS\"]/span[@class=\"a-color-base\"]/text()').getall(),\n",
        "                    'Prime':q.xpath('.//i[@class=\"a-icon a-icon-prime a-icon-medium\"]/@aria-label').getall()\n",
        "            \n",
        "            }\n",
        "        next_pag = response.xpath('//span[@class=\"s-pagination-strip\"]/a[@class=\"s-pagination-item s-pagination-next s-pagination-button s-pagination-separator\"]/@href').get()\n",
        "        \n",
        "        if next_pag is not None:\n",
        "           yield scrapy.Request(response.urljoin(next_pag), callback=self.parse)\n",
        "    "
      ]
    }
  ]
}